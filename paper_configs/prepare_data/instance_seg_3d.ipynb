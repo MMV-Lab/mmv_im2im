{
 "cells": [
  {
   "attachments": {},
   "cell_type": "markdown",
   "metadata": {},
   "source": [
    "The data is from the hiPSC single cell image dataset from the Allen Institute for Cell Science: https://open.quiltdata.com/b/allencell/packages/aics/hipsc_single_cell_image_dataset. Original publication of the data: \n",
    "\n",
    "Viana, M.P., Chen, J., Knijnenburg, T.A. et al. Integrated intracellular organization and its variations in human iPS cells. Nature 613, 345–354 (2023). https://doi.org/10.1038/s41586-022-05563-7\n",
    "\n",
    "There will be two experiemnts in this demo: instance segmentation from bright field images and instance segmentation from fluorescent images."
   ]
  },
  {
   "cell_type": "code",
   "execution_count": null,
   "metadata": {},
   "outputs": [],
   "source": [
    "# you need quilt3 package to download the data:\n",
    "! pip install quilt3"
   ]
  },
  {
   "cell_type": "code",
   "execution_count": null,
   "metadata": {},
   "outputs": [],
   "source": [
    "import pandas as pd\n",
    "import quilt3\n",
    "from pathlib import Path\n",
    "from bioio import BioImage\n",
    "from bioio.writers import OmeTiffWriter\n",
    "from random import random\n",
    "import numpy as np"
   ]
  },
  {
   "cell_type": "code",
   "execution_count": null,
   "metadata": {},
   "outputs": [],
   "source": [
    "# we use the lamin B1 cell line for this demo\n",
    "cline = \"LMNB1\"\n",
    "\n",
    "# set up path\n",
    "parent_path = Path(\"../../data/instance3D\")\n",
    "parent_path.mkdir(exist_ok=True, parents=True)\n",
    "\n",
    "raw_path = parent_path / Path(\"download\")\n",
    "raw_path.mkdir(exist_ok=True)\n",
    "train_bf_path = parent_path / Path(\"train_bf\")\n",
    "train_bf_path.mkdir(exist_ok=True)\n",
    "holdout_bf_path = parent_path / Path(\"holdout_bf\")\n",
    "holdout_bf_path.mkdir(exist_ok=True)\n",
    "train_fluo_path = parent_path / Path(\"train_fluo\")\n",
    "train_fluo_path.mkdir(exist_ok=True)\n",
    "holdout_fluo_path = parent_path / Path(\"holdout_fluo\")\n",
    "holdout_fluo_path.mkdir(exist_ok=True)"
   ]
  },
  {
   "cell_type": "code",
   "execution_count": null,
   "metadata": {},
   "outputs": [],
   "source": [
    "# connect to quilt and load meta table\n",
    "pkg = quilt3.Package.browse(\n",
    "    \"aics/hipsc_single_cell_image_dataset\", registry=\"s3://allencell\"\n",
    ")\n",
    "meta_df_obj = pkg[\"metadata.csv\"]\n",
    "meta_df_obj.fetch(parent_path / \"meta.csv\")\n",
    "meta_df = pd.read_csv(parent_path / \"meta.csv\")\n",
    "\n",
    "# fetch the data of the specific cell line\n",
    "meta_df_line = meta_df.query(\"structure_name==@cline\")\n",
    "\n",
    "# collapse the data table based on FOVId\n",
    "meta_df_line.drop_duplicates(subset=\"FOVId\", inplace=True)\n",
    "\n",
    "# reset index\n",
    "meta_df_line.reset_index(drop=True, inplace=True)"
   ]
  },
  {
   "cell_type": "code",
   "execution_count": null,
   "metadata": {},
   "outputs": [],
   "source": [
    "# download the images and segmentation\n",
    "\n",
    "# we only need a small amount of data for the purpose of demonstration\n",
    "num_of_sample = 60  # choose the amount you need\n",
    "\n",
    "for row in meta_df_line.itertuples():\n",
    "    if row.Index > num_of_sample:\n",
    "        break\n",
    "\n",
    "    # fetch the raw image (multi-channel)\n",
    "    subdir_name = row.fov_path.split(\"/\")[0]\n",
    "    file_name = row.fov_path.split(\"/\")[1]\n",
    "\n",
    "    local_fn = raw_path / f\"{row.FOVId}_original.tiff\"\n",
    "    pkg[subdir_name][file_name].fetch(local_fn)\n",
    "\n",
    "    # extract the bf and DNA dye channel\n",
    "    reader = BioImage(local_fn)\n",
    "    bf_img = reader.get_image_data(\n",
    "        \"ZYX\", C=row.ChannelNumberBrightfield, S=0, T=0\n",
    "    )\n",
    "    dna_img = reader.get_image_data(\n",
    "        \"ZYX\", C=row.ChannelNumber405, S=0, T=0\n",
    "    )\n",
    "\n",
    "    if random() < 0.2:\n",
    "        bf_path = holdout_bf_path\n",
    "        fluo_path = holdout_fluo_path\n",
    "    else:\n",
    "        bf_path = train_bf_path\n",
    "        fluo_path = train_fluo_path\n",
    "\n",
    "    # fetch dna and cell segmentation\n",
    "    subdir_name = row.fov_seg_path.split(\"/\")[0]\n",
    "    file_name = row.fov_seg_path.split(\"/\")[1]\n",
    "\n",
    "    local_fn = raw_path / f\"{row.FOVId}_seg.tiff\"\n",
    "    pkg[subdir_name][file_name].fetch(local_fn)\n",
    "\n",
    "    # extract all valid cells of this FOV\n",
    "    fov_id = row.FOVId\n",
    "    cell_df = meta_df.query(\"FOVId==@fov_id\")\n",
    "    all_cells = cell_df[\"this_cell_index\"].tolist()\n",
    "\n",
    "    # extract the DNA segmentation\n",
    "    reader = BioImage(local_fn)\n",
    "    dna_seg = reader.get_image_data(\n",
    "        \"ZYX\", C=0, S=0, T=0\n",
    "    ).astype(np.uint8)\n",
    "\n",
    "    # extract the Cell segmentation\n",
    "    cell_seg = reader.get_image_data(\n",
    "        \"ZYX\", C=1, S=0, T=0\n",
    "    ).astype(np.int8)\n",
    "\n",
    "    # creata mask from cell segmentation by setting pixels covered by all \n",
    "    # valid cells as one and everywhere else as zero\n",
    "    for cid in all_cells:\n",
    "        cell_seg[cell_seg == cid] = 0\n",
    "\n",
    "    cell_seg[cell_seg > 0] = -1\n",
    "    cell_seg = cell_seg + 1\n",
    "\n",
    "    # save the data\n",
    "    im_bf_fn = bf_path / f\"{row.FOVId}_IM.tiff\"\n",
    "    gt_bf_fn = bf_path / f\"{row.FOVId}_GT.tiff\"\n",
    "    cm_bf_fn = bf_path / f\"{row.FOVId}_CM.tiff\"\n",
    "    OmeTiffWriter.save(bf_img, im_bf_fn, dim_order=\"ZYX\")\n",
    "    OmeTiffWriter.save(dna_seg, gt_bf_fn, dim_order=\"ZYX\")\n",
    "    OmeTiffWriter.save(cell_seg, cm_bf_fn, dim_order=\"ZYX\")\n",
    "\n",
    "    im_fluo_fn = fluo_path / f\"{row.FOVId}_IM.tiff\"\n",
    "    gt_fluo_fn = fluo_path / f\"{row.FOVId}_GT.tiff\"\n",
    "    cm_fluo_fn = fluo_path / f\"{row.FOVId}_CM.tiff\"\n",
    "    OmeTiffWriter.save(dna_img, im_fluo_fn, dim_order=\"ZYX\")\n",
    "    OmeTiffWriter.save(dna_seg, gt_fluo_fn, dim_order=\"ZYX\")\n",
    "    OmeTiffWriter.save(cell_seg, cm_fluo_fn, dim_order=\"ZYX\")"
   ]
  },
  {
   "cell_type": "code",
   "execution_count": null,
   "metadata": {},
   "outputs": [],
   "source": [
    "# you may remove the download folder now.\n",
    "from shutil import rmtree\n",
    "import os\n",
    "rmtree(raw_path)\n",
    "os.remove(parent_path / \"meta.csv\")\n"
   ]
  }
 ],
 "metadata": {
  "kernelspec": {
   "display_name": "Python 3.9.15 ('jc_im2im_dev')",
   "language": "python",
   "name": "python3"
  },
  "language_info": {
   "codemirror_mode": {
    "name": "ipython",
    "version": 3
   },
   "file_extension": ".py",
   "mimetype": "text/x-python",
   "name": "python",
   "nbconvert_exporter": "python",
   "pygments_lexer": "ipython3",
   "version": "3.9.18"
  },
  "orig_nbformat": 4,
  "vscode": {
   "interpreter": {
    "hash": "50fa6b3a3d2c08b8f5587b2999a963caca3e95136a1c3abe22c8121754c6ac26"
   }
  }
 },
 "nbformat": 4,
 "nbformat_minor": 2
}
