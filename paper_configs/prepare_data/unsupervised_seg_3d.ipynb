{
 "cells": [
  {
   "attachments": {},
   "cell_type": "markdown",
   "metadata": {},
   "source": [
    "The data is from the hiPSC single cell image dataset from the Allen Institute for Cell Science: https://open.quiltdata.com/b/allencell/packages/aics/hipsc_single_cell_image_dataset. Original publication of the data: \n",
    "\n",
    "Viana, M.P., Chen, J., Knijnenburg, T.A. et al. Integrated intracellular organization and its variations in human iPS cells. Nature 613, 345–354 (2023). https://doi.org/10.1038/s41586-022-05563-7\n",
    "\n",
    "This demo will gather data to demonstrate 3D unsupervised segmentation of Golgi (ST6GAL1), mitochondria (TOMM20) and nuclei (HIST1H2BJ)."
   ]
  },
  {
   "cell_type": "code",
   "execution_count": null,
   "metadata": {},
   "outputs": [],
   "source": [
    "# you need quilt3 package to download the data:\n",
    "! pip install quilt3"
   ]
  },
  {
   "cell_type": "code",
   "execution_count": null,
   "metadata": {},
   "outputs": [],
   "source": [
    "import pandas as pd\n",
    "import quilt3\n",
    "from pathlib import Path\n",
    "from aicsimageio import AICSImage\n",
    "from aicsimageio.writers import OmeTiffWriter\n",
    "from random import random, sample\n",
    "from shutil import move\n",
    "import numpy as np"
   ]
  },
  {
   "cell_type": "code",
   "execution_count": null,
   "metadata": {},
   "outputs": [],
   "source": [
    "# we use the ST6GAL1, TOMM20 and HIST1H2BJ cell lines for this demo\n",
    "cline = \"HIST1H2BJ\"  # \"TOMM20\" # \"HIST1H2BJ\" # ST6GAL1\n",
    "\n",
    "# set up path\n",
    "parent_path = Path(\"../../data/unsupervise3D\")\n",
    "parent_path.mkdir(exist_ok=True, parents=True)\n",
    "\n",
    "raw_path = parent_path / Path(\"download\")\n",
    "raw_path.mkdir(exist_ok=True)\n",
    "train_path = parent_path / f\"{cline}\" / Path(\"train\")\n",
    "train_path.mkdir(exist_ok=True, parents=True)\n",
    "holdout_path = parent_path / f\"{cline}\"/ Path(\"holdout\")\n",
    "holdout_path.mkdir(exist_ok=True, parents=True)\n",
    "tmp_path = parent_path / Path(\"tmp\")\n",
    "tmp_path.mkdir(exist_ok=True)"
   ]
  },
  {
   "cell_type": "code",
   "execution_count": null,
   "metadata": {},
   "outputs": [],
   "source": [
    "# connect to quilt and load meta table\n",
    "pkg = quilt3.Package.browse(\n",
    "    \"aics/hipsc_single_cell_image_dataset\", registry=\"s3://allencell\"\n",
    ")\n",
    "meta_df_obj = pkg[\"metadata.csv\"]\n",
    "meta_df_obj.fetch(parent_path / \"meta.csv\")\n",
    "meta_df = pd.read_csv(parent_path / \"meta.csv\")\n",
    "\n",
    "# fetch the data of the specific cell line\n",
    "meta_df_line = meta_df.query(\"structure_name==@cline\")\n",
    "\n",
    "# collapse the data table based on FOVId\n",
    "meta_df_line.drop_duplicates(subset=\"FOVId\", inplace=True)\n",
    "\n",
    "# reset index\n",
    "meta_df_line.reset_index(drop=True, inplace=True)"
   ]
  },
  {
   "cell_type": "code",
   "execution_count": null,
   "metadata": {},
   "outputs": [],
   "source": [
    "# download the images and segmentation\n",
    "# we only need a small amount of data for the purpose of demonstration\n",
    "num_of_sample = 200\n",
    "tmp_list = []\n",
    "for row in meta_df_line.itertuples():\n",
    "    if row.Index > num_of_sample:\n",
    "        break\n",
    "    # fetch the raw image (multi-channel)\n",
    "    subdir_name = row.fov_path.split(\"/\")[0]\n",
    "    file_name = row.fov_path.split(\"/\")[1]\n",
    "\n",
    "    local_fn = raw_path / f\"{row.FOVId}_original.tiff\"\n",
    "    pkg[subdir_name][file_name].fetch(local_fn)\n",
    "\n",
    "    # extract the structure channel\n",
    "    reader = AICSImage(local_fn)\n",
    "    img = reader.get_image_data(\"ZYX\", C=row.ChannelNumberStruct, S=0, T=0)\n",
    "\n",
    "    # fetch segmentation (use nuclear segmentation for H2B,\n",
    "    # and use structure segmentation for the others)\n",
    "    if cline == \"HIST1H2BJ\":\n",
    "        subdir_name = row.fov_seg_path.split(\"/\")[0]\n",
    "        file_name = row.fov_seg_path.split(\"/\")[1]\n",
    "    else:\n",
    "        subdir_name = row.struct_seg_path.split(\"/\")[0]\n",
    "        file_name = row.struct_seg_path.split(\"/\")[1]\n",
    "\n",
    "    local_fn = raw_path / f\"{row.FOVId}_seg.tiff\"\n",
    "    pkg[subdir_name][file_name].fetch(local_fn)\n",
    "\n",
    "    # extract the structure segmentation\n",
    "    reader = AICSImage(local_fn)\n",
    "    seg = reader.get_image_data(\"ZYX\", C=0, S=0, T=0).astype(np.uint8)\n",
    "    seg[seg > 0] = 1\n",
    "\n",
    "    if random() < 0.2:\n",
    "        # save as holdout\n",
    "        im_fn = holdout_path / f\"{row.FOVId}_IM.tiff\"\n",
    "        gt_fn = holdout_path / f\"{row.FOVId}_GT.tiff\"\n",
    "        OmeTiffWriter.save(img, im_fn, dim_order=\"ZYX\")\n",
    "        OmeTiffWriter.save(seg, gt_fn, dim_order=\"ZYX\")\n",
    "    else:\n",
    "        # save the grayscale image in the train path and save the\n",
    "        # corresponding segmentation in tmp, and shuffle at the end\n",
    "        im_fn = train_path / f\"{row.FOVId}_IM.tiff\"\n",
    "        gt_fn = tmp_path / f\"{row.FOVId}_GT.tiff\"\n",
    "        tmp_list.append(row.FOVId)\n",
    "        OmeTiffWriter.save(img, im_fn, dim_order=\"ZYX\")\n",
    "        OmeTiffWriter.save(seg, gt_fn, dim_order=\"ZYX\")"
   ]
  },
  {
   "cell_type": "code",
   "execution_count": null,
   "metadata": {},
   "outputs": [],
   "source": [
    "new_list = sample(tmp_list, len(tmp_list))\n",
    "for old_id, new_id in zip(tmp_list, new_list):\n",
    "    src_fn = tmp_path / f\"{old_id}_GT.tiff\"\n",
    "    tar_fn = train_path / f\"{new_id}_GT.tiff\"\n",
    "    move(src_fn, tar_fn)"
   ]
  },
  {
   "cell_type": "code",
   "execution_count": null,
   "metadata": {},
   "outputs": [],
   "source": [
    "# you may remove the download folder now.\n",
    "from shutil import rmtree\n",
    "import os\n",
    "rmtree(raw_path)\n",
    "rmtree(tmp_path)\n",
    "os.remove(parent_path / \"meta.csv\")\n"
   ]
  }
 ],
 "metadata": {
  "kernelspec": {
   "display_name": "Python 3.9.15 ('jc_im2im_dev')",
   "language": "python",
   "name": "python3"
  },
  "language_info": {
   "codemirror_mode": {
    "name": "ipython",
    "version": 3
   },
   "file_extension": ".py",
   "mimetype": "text/x-python",
   "name": "python",
   "nbconvert_exporter": "python",
   "pygments_lexer": "ipython3",
   "version": "3.9.18"
  },
  "orig_nbformat": 4,
  "vscode": {
   "interpreter": {
    "hash": "50fa6b3a3d2c08b8f5587b2999a963caca3e95136a1c3abe22c8121754c6ac26"
   }
  }
 },
 "nbformat": 4,
 "nbformat_minor": 2
}
