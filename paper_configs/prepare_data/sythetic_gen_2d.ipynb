{
 "cells": [
  {
   "attachments": {},
   "cell_type": "markdown",
   "metadata": {},
   "source": [
    "The data is from the hiPSC single cell image dataset from the Allen Institute for Cell Science: https://open.quiltdata.com/b/allencell/packages/aics/hipsc_single_cell_image_dataset. Original publication of the data: \n",
    "\n",
    "Viana, M.P., Chen, J., Knijnenburg, T.A. et al. Integrated intracellular organization and its variations in human iPS cells. Nature 613, 345–354 (2023). https://doi.org/10.1038/s41586-022-05563-7\n",
    "\n",
    "This demo will gather data to demonstrate how to train a model to generate 2D synthetic microscopy images from binary masks, using dataset: nucleophosmin (NPM1)."
   ]
  },
  {
   "cell_type": "code",
   "execution_count": null,
   "metadata": {},
   "outputs": [],
   "source": [
    "# you need quilt3 package to download the data:\n",
    "! pip install quilt3"
   ]
  },
  {
   "cell_type": "code",
   "execution_count": null,
   "metadata": {},
   "outputs": [],
   "source": [
    "import pandas as pd\n",
    "import quilt3\n",
    "from pathlib import Path\n",
    "from aicsimageio.writers import OmeTiffWriter\n",
    "from random import random, sample\n",
    "from shutil import move\n",
    "import numpy as np\n",
    "from bioio import BioImage"
   ]
  },
  {
   "cell_type": "code",
   "execution_count": null,
   "metadata": {},
   "outputs": [],
   "source": [
    "# we use the NPM1 and HIST1H2BJ cell lines for this demo\n",
    "cline = \"NPM1\"\n",
    "\n",
    "# set up path\n",
    "parent_path = Path(\"../../data/synthetic2D\")\n",
    "parent_path.mkdir(exist_ok=True, parents=True)\n",
    "\n",
    "raw_path = parent_path / Path(\"download\")\n",
    "raw_path.mkdir(exist_ok=True)\n",
    "train_path = parent_path / f\"{cline}\" / Path(\"train\")\n",
    "train_path.mkdir(exist_ok=True, parents=True)\n",
    "holdout_path = parent_path / f\"{cline}\"/ Path(\"holdout\")\n",
    "holdout_path.mkdir(exist_ok=True, parents=True)"
   ]
  },
  {
   "cell_type": "code",
   "execution_count": null,
   "metadata": {},
   "outputs": [],
   "source": [
    "# connect to quilt and load meta table\n",
    "pkg = quilt3.Package.browse(\n",
    "    \"aics/hipsc_single_cell_image_dataset\", registry=\"s3://allencell\"\n",
    ")\n",
    "meta_df_obj = pkg[\"metadata.csv\"]\n",
    "meta_df_obj.fetch(parent_path / \"meta.csv\")\n",
    "meta_df = pd.read_csv(parent_path / \"meta.csv\")\n",
    "\n",
    "# fetch the data of the specific cell line\n",
    "meta_df_line = meta_df.query(\"structure_name==@cline\")\n",
    "\n",
    "# collapse the data table based on FOVId\n",
    "meta_df_line.drop_duplicates(subset=\"FOVId\", inplace=True)\n",
    "\n",
    "# reset index\n",
    "meta_df_line.reset_index(drop=True, inplace=True)"
   ]
  },
  {
   "cell_type": "code",
   "execution_count": null,
   "metadata": {},
   "outputs": [],
   "source": [
    "# download the images and segmentation\n",
    "# we only need a small amount of data for the purpose of demonstration\n",
    "num_of_sample = 400\n",
    "tmp_list = []\n",
    "for row in meta_df_line.itertuples():\n",
    "    if row.Index > num_of_sample:\n",
    "        break\n",
    "    # fetch the raw image (multi-channel)\n",
    "    subdir_name = row.fov_path.split(\"/\")[0]\n",
    "    file_name = row.fov_path.split(\"/\")[1]\n",
    "\n",
    "    local_fn = raw_path / f\"{row.FOVId}_original.tiff\"\n",
    "    pkg[subdir_name][file_name].fetch(local_fn)\n",
    "\n",
    "    # extract the structure channel\n",
    "    reader = BioImage(local_fn)\n",
    "    img = reader.get_image_data(\"ZYX\", C=row.ChannelNumberStruct, S=0, T=0)\n",
    "\n",
    "    subdir_name = row.struct_seg_path.split(\"/\")[0]\n",
    "    file_name = row.struct_seg_path.split(\"/\")[1]\n",
    "\n",
    "    local_fn = raw_path / f\"{row.FOVId}_seg.tiff\"\n",
    "    pkg[subdir_name][file_name].fetch(local_fn)\n",
    "\n",
    "    # extract the structure segmentation\n",
    "    reader = BioImage(local_fn)\n",
    "    seg = reader.get_image_data(\"ZYX\", C=0, S=0, T=0).astype(np.uint8)\n",
    "    seg[seg > 0] = 1\n",
    "\n",
    "    if random() < 0.2:\n",
    "        out_path = holdout_path\n",
    "    else:\n",
    "        out_path = train_path\n",
    "\n",
    "    # find mid z\n",
    "    z_range = np.where(np.any(seg > 0, axis=(1, 2)))\n",
    "    z_range = z_range[0]\n",
    "    mid_z = (z_range[-1] + z_range[0]) // 2\n",
    "    mid_z = int(mid_z)\n",
    "\n",
    "    # save the data\n",
    "    im_fn = out_path / f\"{row.FOVId}_GT.tiff\"\n",
    "    seg_fn = out_path / f\"{row.FOVId}_IM.tiff\"\n",
    "    OmeTiffWriter.save(img[mid_z, :, :], im_fn, dim_order=\"YX\")\n",
    "    OmeTiffWriter.save(seg[mid_z, :, :], seg_fn, dim_order=\"YX\")"
   ]
  },
  {
   "cell_type": "code",
   "execution_count": null,
   "metadata": {},
   "outputs": [],
   "source": [
    "# you may remove the download folder now.\n",
    "from shutil import rmtree\n",
    "import os\n",
    "rmtree(raw_path)\n",
    "os.remove(parent_path / \"meta.csv\")\n"
   ]
  }
 ],
 "metadata": {
  "kernelspec": {
   "display_name": "Python 3.9.15 ('jc_im2im_dev')",
   "language": "python",
   "name": "python3"
  },
  "language_info": {
   "codemirror_mode": {
    "name": "ipython",
    "version": 3
   },
   "file_extension": ".py",
   "mimetype": "text/x-python",
   "name": "python",
   "nbconvert_exporter": "python",
   "pygments_lexer": "ipython3",
   "version": "3.9.18"
  },
  "orig_nbformat": 4,
  "vscode": {
   "interpreter": {
    "hash": "50fa6b3a3d2c08b8f5587b2999a963caca3e95136a1c3abe22c8121754c6ac26"
   }
  }
 },
 "nbformat": 4,
 "nbformat_minor": 2
}
