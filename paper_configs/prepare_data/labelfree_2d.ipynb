{
 "cells": [
  {
   "attachments": {},
   "cell_type": "markdown",
   "metadata": {},
   "source": [
    "The data were downloaded from https://zenodo.org/record/6139958#.Y78QJKrMLtU and https://zenodo.org/record/6140064#.Y78YeqrMLtU\n",
    "\n",
    "For data source 1 (https://zenodo.org/record/6139958#.Y78QJKrMLtU), it contains a timelapse tiff of 240 time steps, each with 5 channels.\n",
    "\n",
    "* Channel 1 : Low Contrast DPC (Digital Phase Contrast)\n",
    "* Channel 2 : High Contrast DPC\n",
    "* Channel 3 : Brightfield (the input in our study)\n",
    "* Channel 4 : EGFP-α-tubulin\n",
    "* Channel 5 : mCherry-H2B (the ground truth in our study)\n",
    "\n",
    "For data source 2 (https://zenodo.org/record/6140064#.Y78YeqrMLtU), it contains two sub-folders (train and test), each with snapshots sliced from different timelapse data. Each snapshot is saved as six different tiff files:\n",
    "* _bf: bright field (the input in our study), \n",
    "* _cyto: cytoplasm segmentation mask\n",
    "* _dpc: phase contrast\n",
    "* _fluo: two channel, first cytoplasm, second H2B (the H2B channel is the ground truth in our study)\n",
    "* _nuclei: nuclei segmentation mask\n",
    "* _sqrdpc: square-root phase contrast\n",
    "\n",
    "We will all the data from the two sources, and do a 15%:85% (roughly) split in test set and train set. There will be some overlapped files between these two sources, only one will be kept"
   ]
  },
  {
   "cell_type": "code",
   "execution_count": null,
   "metadata": {},
   "outputs": [],
   "source": [
    "import pooch\n",
    "from bioio import BioImage\n",
    "from bioio.writers import OmeTiffWriter\n",
    "import matplotlib.pyplot as plt\n",
    "import zipfile\n",
    "from pathlib import Path\n",
    "from random import random\n",
    "import numpy as np\n",
    "\n",
    "\n",
    "data_path = Path(\"../../data/labelfree2D\")\n",
    "data_path.mkdir(exist_ok=True, parents=True)\n",
    "\n",
    "p = data_path / Path(\"download\")\n",
    "p.mkdir(exist_ok=True, parents=True)\n",
    "p = data_path / Path(\"train\")\n",
    "p.mkdir(exist_ok=True)\n",
    "p = data_path / Path(\"test\")\n",
    "p.mkdir(exist_ok=True)"
   ]
  },
  {
   "cell_type": "code",
   "execution_count": null,
   "metadata": {},
   "outputs": [],
   "source": [
    "# This might temporarily result in an error, see https://github.com/fatiando/pooch/issues/371\n",
    "source_part1 = pooch.retrieve(\n",
    "    url=\"doi:10.5281/zenodo.6139958/20210904_TL2 - R05-C03-F0.tif\",\n",
    "    known_hash=\"md5:1d6cb5b86f39f9accb6ee53367bda8e1\",\n",
    "    fname=\"20210904_TL2-R05-C03-F0.tiff\",\n",
    "    path=data_path / Path(\"download\")\n",
    ")"
   ]
  },
  {
   "cell_type": "code",
   "execution_count": null,
   "metadata": {},
   "outputs": [],
   "source": [
    "reader = BioImage(source_part1)\n",
    "print(reader.dims)"
   ]
  },
  {
   "cell_type": "code",
   "execution_count": null,
   "metadata": {},
   "outputs": [],
   "source": [
    "sample = reader.get_image_data(\"CYX\", T=100, Z=0)\n",
    "fig, ax = plt.subplots(1, reader.dims.C, figsize=(18,16), dpi=72, facecolor='w', edgecolor='k')\n",
    "for channel in range(reader.dims.C):\n",
    "    ax[channel].axis('off')\n",
    "    ax[channel].imshow(sample[channel,:,:], cmap=plt.cm.gray)"
   ]
  },
  {
   "cell_type": "code",
   "execution_count": null,
   "metadata": {},
   "outputs": [],
   "source": [
    "# input (bright field) channel: 2\n",
    "# ground truth (mCherry-H2B) channel: 4\n",
    "fn_base = Path(source_part1).stem\n",
    "for tt in range(reader.dims.T):\n",
    "    im = reader.get_image_data(\"YX\", Z=0, T=tt, C=2)\n",
    "    gt = reader.get_image_data(\"YX\", Z=0, T=tt, C=4)\n",
    "    if random() < 0.15:\n",
    "        data_type = \"test\"\n",
    "    else:\n",
    "        data_type = \"train\"\n",
    "\n",
    "    out_fn = data_path / f\"{data_type}\" / f\"{fn_base}_{tt:03d}_IM.tiff\"\n",
    "    OmeTiffWriter.save(im.astype(np.uint16), out_fn, dim_order=\"YX\")\n",
    "\n",
    "    out_fn = data_path / f\"{data_type}\" / f\"{fn_base}_{tt:03d}_GT.tiff\"\n",
    "    OmeTiffWriter.save(gt.astype(np.uint16), out_fn, dim_order=\"YX\")"
   ]
  },
  {
   "cell_type": "code",
   "execution_count": null,
   "metadata": {},
   "outputs": [],
   "source": [
    "# This might temporarily result in an error, see https://github.com/fatiando/pooch/issues/371\n",
    "source_part2 = pooch.retrieve(\n",
    "    url=\"doi:10.5281/zenodo.6140064/training_dataset.zip\",\n",
    "    known_hash=\"md5:7d218466d217fd62dc8ec56ad76d23d7\",\n",
    "    fname=\"labelfree2d_part2.zip\",\n",
    "    path=data_path / Path(\"download\")\n",
    ")"
   ]
  },
  {
   "cell_type": "code",
   "execution_count": null,
   "metadata": {},
   "outputs": [],
   "source": [
    "with zipfile.ZipFile(source_part2,\"r\") as zip_ref:\n",
    "    zip_ref.extractall(data_path / Path(\"download\"))"
   ]
  },
  {
   "cell_type": "code",
   "execution_count": null,
   "metadata": {},
   "outputs": [],
   "source": [
    "for source_set in [\"train\", \"test\"]:\n",
    "    source_path = data_path / Path(\"download\") / f\"{source_set}\"\n",
    "    filenames = sorted(source_path.glob(\"*_bf.tif\"))\n",
    "    for fn in filenames:\n",
    "        fn_fluo = source_path / f\"{fn.stem[:-2]}fluo.tif\"\n",
    "        fn_base = fn.stem.replace(\" \", \"\")\n",
    "\n",
    "        # get bright field image\n",
    "        bf_reader = BioImage(fn)\n",
    "        im = bf_reader.get_image_data(\"YX\", Z=0, T=0, C=0)\n",
    "\n",
    "        # get H2b fluorescent image\n",
    "        h2b_reader = BioImage(fn_fluo)\n",
    "        gt = h2b_reader.get_image_data(\"YX\", Z=0, C=1, T=0)\n",
    "\n",
    "        if random() < 0.15:\n",
    "            data_type = \"test\"\n",
    "        else:\n",
    "            data_type = \"train\"\n",
    "\n",
    "        out_fn = data_path / f\"{data_type}\" / f\"{fn_base}_IM.tiff\"\n",
    "        OmeTiffWriter.save(im.astype(np.uint16), out_fn, dim_order=\"YX\")\n",
    "\n",
    "        out_fn = data_path / f\"{data_type}\" / f\"{fn_base}_GT.tiff\"\n",
    "        OmeTiffWriter.save(gt.astype(np.uint16), out_fn, dim_order=\"YX\")\n"
   ]
  },
  {
   "cell_type": "code",
   "execution_count": null,
   "metadata": {},
   "outputs": [],
   "source": [
    "# you may remove the download folder now.\n",
    "from shutil import rmtree\n",
    "rmtree(data_path / Path(\"download\"), ignore_erros=True)"
   ]
  }
 ],
 "metadata": {
  "kernelspec": {
   "display_name": "Python 3.9.15 ('jc_im2im_dev')",
   "language": "python",
   "name": "python3"
  },
  "language_info": {
   "codemirror_mode": {
    "name": "ipython",
    "version": 3
   },
   "file_extension": ".py",
   "mimetype": "text/x-python",
   "name": "python",
   "nbconvert_exporter": "python",
   "pygments_lexer": "ipython3",
   "version": "3.9.18"
  },
  "orig_nbformat": 4,
  "vscode": {
   "interpreter": {
    "hash": "50fa6b3a3d2c08b8f5587b2999a963caca3e95136a1c3abe22c8121754c6ac26"
   }
  }
 },
 "nbformat": 4,
 "nbformat_minor": 2
}
