{
 "cells": [
  {
   "attachments": {},
   "cell_type": "markdown",
   "metadata": {},
   "source": [
    "The data was from https://warwick.ac.uk/fac/cross_fac/tia/data/glascontest/, which was originally used for MICCAI Glas challenge."
   ]
  },
  {
   "cell_type": "code",
   "execution_count": 2,
   "metadata": {},
   "outputs": [],
   "source": [
    "import pooch\n",
    "from skimage.io import imread\n",
    "from aicsimageio.writers import OmeTiffWriter\n",
    "import zipfile\n",
    "from pathlib import Path\n",
    "from random import random\n",
    "import numpy as np\n",
    "\n",
    "data_path = Path(\"../../data/semantic2D\")\n",
    "p = data_path / Path(\"download\")\n",
    "p.mkdir(exist_ok=True, parents=True)\n",
    "p = data_path / Path(\"train\")\n",
    "p.mkdir(exist_ok=True)\n",
    "p = data_path / Path(\"testA\")\n",
    "p.mkdir(exist_ok=True)\n",
    "p = data_path / Path(\"testB\")\n",
    "p.mkdir(exist_ok=True)"
   ]
  },
  {
   "cell_type": "code",
   "execution_count": 3,
   "metadata": {},
   "outputs": [
    {
     "name": "stderr",
     "output_type": "stream",
     "text": [
      "Downloading data from 'https://warwick.ac.uk/fac/cross_fac/tia/data/glascontest/download/warwick_qu_dataset_released_2016_07_08.zip' to file '/mnt/eternus/users/Jianxu/projects/mmv_im2im/data/semantic2D/download/source.zip'.\n"
     ]
    }
   ],
   "source": [
    "source = pooch.retrieve(\n",
    "    url=\"https://warwick.ac.uk/fac/cross_fac/tia/data/glascontest/download/warwick_qu_dataset_released_2016_07_08.zip\",\n",
    "    fname=\"source.zip\",\n",
    "    path=data_path / Path(\"download\"),\n",
    "    known_hash=\"7849d349db105751a157d011e9708d724203e85bbad08fd047dcdfe5b9a572e2\"\n",
    ")"
   ]
  },
  {
   "cell_type": "code",
   "execution_count": 4,
   "metadata": {},
   "outputs": [],
   "source": [
    "# unzip the data\n",
    "with zipfile.ZipFile(source,\"r\") as zip_ref:\n",
    "    zip_ref.extractall(data_path / Path(\"download\"))"
   ]
  },
  {
   "cell_type": "code",
   "execution_count": 5,
   "metadata": {},
   "outputs": [],
   "source": [
    "source_path = data_path / Path(\"download\") / Path(\"Warwick QU Dataset (Released 2016_07_08)\")"
   ]
  },
  {
   "cell_type": "code",
   "execution_count": 6,
   "metadata": {},
   "outputs": [
    {
     "name": "stderr",
     "output_type": "stream",
     "text": [
      "/mnt/eternus/anaconda3_shared/envs/jc_im2im_dev/lib/python3.9/site-packages/ome_types/_convenience.py:105: FutureWarning: The default XML parser will be changing from 'xmlschema' to 'lxml' in version 0.4.0.  To silence this warning, please provide the `parser` argument, specifying either 'lxml' (to opt into the new behavior), or'xmlschema' (to retain the old behavior).\n",
      "  d = to_dict(os.fspath(xml), parser=parser, validate=validate)\n"
     ]
    }
   ],
   "source": [
    "# parameters about the dataset\n",
    "num_train = 85\n",
    "num_testA = 60\n",
    "num_testB = 20\n",
    "\n",
    "dataset_min_size = 10000000\n",
    "\n",
    "for idx in range(num_train):\n",
    "    im = imread(source_path / f\"train_{idx+1}.bmp\")\n",
    "    gt = imread(source_path / f\"train_{idx+1}_anno.bmp\")\n",
    "\n",
    "    # convert to binary\n",
    "    gt[gt > 0] = 1\n",
    "\n",
    "    # save\n",
    "    out_fn = data_path / Path(\"train\") / f\"img_{idx:02d}_IM.tiff\"\n",
    "    OmeTiffWriter.save(im, out_fn, dim_order=\"YXS\")\n",
    "\n",
    "    out_fn = data_path / Path(\"train\") / f\"img_{idx:02d}_GT.tiff\"\n",
    "    OmeTiffWriter.save(gt, out_fn, dim_order=\"YX\")\n",
    "\n",
    "    # check size\n",
    "    if gt.shape[0] < dataset_min_size:\n",
    "        dataset_min_size = gt.shape[0]\n",
    "    if gt.shape[1] < dataset_min_size:\n",
    "        dataset_min_size = gt.shape[1]\n",
    "\n",
    "for idx in range(num_testA):\n",
    "    im = imread(source_path / f\"testA_{idx+1}.bmp\")\n",
    "    gt = imread(source_path / f\"testA_{idx+1}_anno.bmp\")\n",
    "\n",
    "    # convert to binary\n",
    "    gt[gt > 0] = 1\n",
    "\n",
    "    # save\n",
    "    out_fn = data_path / Path(\"testA\") / f\"img_{idx:02d}_IM.tiff\"\n",
    "    OmeTiffWriter.save(im, out_fn, dim_order=\"YXS\")\n",
    "\n",
    "    out_fn = data_path / Path(\"testA\") / f\"img_{idx:02d}_GT.tiff\"\n",
    "    OmeTiffWriter.save(gt, out_fn, dim_order=\"YX\")\n",
    "\n",
    "    # check size\n",
    "    if gt.shape[0] < dataset_min_size:\n",
    "        dataset_min_size = gt.shape[0]\n",
    "    if gt.shape[1] < dataset_min_size:\n",
    "        dataset_min_size = gt.shape[1]\n",
    "\n",
    "for idx in range(num_testB):\n",
    "    im = imread(source_path / f\"testB_{idx+1}.bmp\")\n",
    "    gt = imread(source_path / f\"testB_{idx+1}_anno.bmp\")\n",
    "\n",
    "    # convert binary\n",
    "    gt[gt > 0] = 1\n",
    "\n",
    "    # save\n",
    "    out_fn = data_path / Path(\"testB\") / f\"img_{idx:02d}_IM.tiff\"\n",
    "    OmeTiffWriter.save(im, out_fn, dim_order=\"YXS\")\n",
    "\n",
    "    out_fn = data_path / Path(\"testB\") / f\"img_{idx:02d}_GT.tiff\"\n",
    "    OmeTiffWriter.save(gt, out_fn, dim_order=\"YX\")\n",
    "\n",
    "    # check size\n",
    "    if gt.shape[0] < dataset_min_size:\n",
    "        dataset_min_size = gt.shape[0]\n",
    "    if gt.shape[1] < dataset_min_size:\n",
    "        dataset_min_size = gt.shape[1]\n"
   ]
  },
  {
   "cell_type": "code",
   "execution_count": 7,
   "metadata": {},
   "outputs": [
    {
     "name": "stdout",
     "output_type": "stream",
     "text": [
      "the patch size during training should not be smaller than 430 or pad to be large enough\n"
     ]
    }
   ],
   "source": [
    "print(f\"the patch size during training should not be smaller than {dataset_min_size} or pad to be large enough\")"
   ]
  },
  {
   "cell_type": "code",
   "execution_count": 8,
   "metadata": {},
   "outputs": [],
   "source": [
    "# you may remove the download folder now.\n",
    "from shutil import rmtree\n",
    "rmtree(data_path / Path(\"download\"))"
   ]
  }
 ],
 "metadata": {
  "kernelspec": {
   "display_name": "Python 3.9.15 ('jc_im2im_dev')",
   "language": "python",
   "name": "python3"
  },
  "language_info": {
   "codemirror_mode": {
    "name": "ipython",
    "version": 3
   },
   "file_extension": ".py",
   "mimetype": "text/x-python",
   "name": "python",
   "nbconvert_exporter": "python",
   "pygments_lexer": "ipython3",
   "version": "3.9.15"
  },
  "orig_nbformat": 4,
  "vscode": {
   "interpreter": {
    "hash": "50fa6b3a3d2c08b8f5587b2999a963caca3e95136a1c3abe22c8121754c6ac26"
   }
  }
 },
 "nbformat": 4,
 "nbformat_minor": 2
}
