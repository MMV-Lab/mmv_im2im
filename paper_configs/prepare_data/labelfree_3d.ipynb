{
 "cells": [
  {
   "attachments": {},
   "cell_type": "markdown",
   "metadata": {},
   "source": [
    "The data is from the hiPSC single cell image dataset from the Allen Institute for Cell Science: https://open.quiltdata.com/b/allencell/packages/aics/hipsc_single_cell_image_dataset. Original publication of the data: \n",
    "\n",
    "Viana, M.P., Chen, J., Knijnenburg, T.A. et al. Integrated intracellular organization and its variations in human iPS cells. Nature 613, 345–354 (2023). https://doi.org/10.1038/s41586-022-05563-7"
   ]
  },
  {
   "cell_type": "code",
   "execution_count": null,
   "metadata": {},
   "outputs": [],
   "source": [
    "# you need quilt3 package to download the data:\n",
    "! pip install quilt3"
   ]
  },
  {
   "cell_type": "code",
   "execution_count": null,
   "metadata": {},
   "outputs": [],
   "source": [
    "import pandas as pd\n",
    "import quilt3\n",
    "from pathlib import Path\n",
    "from bioio import BioImage\n",
    "from bioio.writers import OmeTiffWriter\n",
    "from random import random"
   ]
  },
  {
   "cell_type": "code",
   "execution_count": null,
   "metadata": {},
   "outputs": [],
   "source": [
    "# set parameters\n",
    "\n",
    "# which cell line to download: in the paper, we tested on four nuclear structures:\n",
    "# - fibrillarin (cline = \"FBL\")\n",
    "# - nucleophosmin (cline = \"NPM1\")\n",
    "# - lamin b1 (cline = \"LMNB1\")\n",
    "# - histon H2B (cline = \"HIST1H2BJ\")\n",
    "cline = \"LMNB1\"\n",
    "num_samples_per_cell_line =250 # choose what you need, with roughly 80/20 training/validation split \n",
    "\n",
    "# set up path\n",
    "parent_path = Path(\"../../data/labelfree3D\") / f\"{cline}\"\n",
    "parent_path.mkdir(exist_ok=True, parents=True)\n",
    "\n",
    "raw_path = parent_path / Path(\"download\")\n",
    "raw_path.mkdir(exist_ok=True, parents=True)\n",
    "train_path = parent_path / Path(\"train\")\n",
    "train_path.mkdir(exist_ok=True)\n",
    "holdout_path = parent_path / Path(\"holdout\")\n",
    "holdout_path.mkdir(exist_ok=True)"
   ]
  },
  {
   "cell_type": "code",
   "execution_count": null,
   "metadata": {},
   "outputs": [],
   "source": [
    "# connect to quilt and load meta table\n",
    "pkg = quilt3.Package.browse(\n",
    "    \"aics/hipsc_single_cell_image_dataset\", registry=\"s3://allencell\"\n",
    ")\n",
    "meta_df_obj = pkg[\"metadata.csv\"]\n",
    "meta_df_obj.fetch(parent_path / \"meta.csv\")\n",
    "meta_df = pd.read_csv(parent_path / \"meta.csv\")\n",
    "\n",
    "# fetch the data of the specific cell line\n",
    "meta_df_line = meta_df.query(\"structure_name==@cline\")\n",
    "\n",
    "# collapse the data table based on FOVId\n",
    "meta_df_line.drop_duplicates(subset=\"FOVId\", inplace=True)\n",
    "\n",
    "# reset index\n",
    "meta_df_line.reset_index(drop=True, inplace=True)"
   ]
  },
  {
   "cell_type": "code",
   "execution_count": null,
   "metadata": {},
   "outputs": [],
   "source": [
    "# download the images and re-slice into input (BF) and ground truth (fluorescent) images\n",
    "for row in meta_df_line.itertuples():\n",
    "    if row.Index >= num_samples_per_cell_line:\n",
    "        break\n",
    "    \n",
    "    # fetch the raw image (multi-channel)\n",
    "    subdir_name = row.fov_path.split(\"/\")[0]\n",
    "    file_name = row.fov_path.split(\"/\")[1]\n",
    "\n",
    "    local_fn = raw_path / f\"{row.FOVId}_original.tiff\"\n",
    "    pkg[subdir_name][file_name].fetch(local_fn)\n",
    "\n",
    "    # extract the bf and structures channel\n",
    "    reader = BioImage(local_fn)\n",
    "    bf_img = reader.get_image_data(\n",
    "        \"ZYX\", C=row.ChannelNumberBrightfield, S=0, T=0\n",
    "    )\n",
    "    str_img = reader.get_image_data(\n",
    "        \"ZYX\", C=row.ChannelNumberStruct, S=0, T=0\n",
    "    )\n",
    "\n",
    "    if random() < 0.2:\n",
    "        data_path = holdout_path\n",
    "    else:\n",
    "        data_path = train_path\n",
    "\n",
    "    im_fn = data_path / f\"{row.FOVId}_IM.tiff\"\n",
    "    gt_fn = data_path / f\"{row.FOVId}_GT.tiff\"\n",
    "    OmeTiffWriter.save(bf_img, im_fn, dim_order=\"ZYX\")\n",
    "    OmeTiffWriter.save(str_img, gt_fn, dim_order=\"ZYX\")\n"
   ]
  },
  {
   "cell_type": "code",
   "execution_count": null,
   "metadata": {},
   "outputs": [],
   "source": [
    "# you may remove the download folder now.\n",
    "from shutil import rmtree\n",
    "import os\n",
    "rmtree(raw_path)\n",
    "os.remove(parent_path / \"meta.csv\")\n"
   ]
  }
 ],
 "metadata": {
  "kernelspec": {
   "display_name": "Python 3.9.15 ('jc_im2im_dev')",
   "language": "python",
   "name": "python3"
  },
  "language_info": {
   "codemirror_mode": {
    "name": "ipython",
    "version": 3
   },
   "file_extension": ".py",
   "mimetype": "text/x-python",
   "name": "python",
   "nbconvert_exporter": "python",
   "pygments_lexer": "ipython3",
   "version": "3.9.18"
  },
  "orig_nbformat": 4,
  "vscode": {
   "interpreter": {
    "hash": "50fa6b3a3d2c08b8f5587b2999a963caca3e95136a1c3abe22c8121754c6ac26"
   }
  }
 },
 "nbformat": 4,
 "nbformat_minor": 2
}
