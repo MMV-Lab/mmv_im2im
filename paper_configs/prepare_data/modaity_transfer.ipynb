{
 "cells": [
  {
   "attachments": {},
   "cell_type": "markdown",
   "metadata": {},
   "source": [
    "The data were downloaded from the data asscociated with paper:\n",
    "\n",
    "Chen, J., Sasaki, H., Lai, H. et al. Three-dimensional residual channel attention networks denoise and sharpen fluorescence microscopy image volumes. Nat Methods 18, 678–687 (2021). https://doi.org/10.1038/s41592-021-01155-x\n",
    "\n",
    "Data can be downloaded from here: https://zenodo.org/record/4624364#.Y9bWOoHMIqJ\n",
    "\n",
    "We will use two datasets \"Confocal_2_STED.zip\""
   ]
  },
  {
   "cell_type": "code",
   "execution_count": 1,
   "metadata": {},
   "outputs": [],
   "source": [
    "import pooch\n",
    "from aicsimageio import AICSImage\n",
    "from aicsimageio.writers import OmeTiffWriter\n",
    "import matplotlib.pyplot as plt\n",
    "import zipfile\n",
    "from pathlib import Path\n",
    "from random import random\n",
    "import numpy as np\n",
    "from shutil import move\n",
    "\n",
    "\n",
    "data_path = Path(\"../../data/modalityTransfer\")\n",
    "p = data_path / Path(\"download\")\n",
    "p.mkdir(exist_ok=True)\n",
    "p = data_path / Path(\"train\")\n",
    "p.mkdir(exist_ok=True)\n",
    "p = data_path / Path(\"test\")\n",
    "p.mkdir(exist_ok=True)"
   ]
  },
  {
   "cell_type": "code",
   "execution_count": 2,
   "metadata": {},
   "outputs": [
    {
     "name": "stderr",
     "output_type": "stream",
     "text": [
      "Downloading data from 'doi:10.5281/zenodo.4624363/Confocal_2_STED.zip' to file '/mnt/eternus/users/Jianxu/projects/mmv_im2im/data/modalityTransfer/download/source.zip'.\n"
     ]
    }
   ],
   "source": [
    "source = pooch.retrieve(\n",
    "    url=\"doi:10.5281/zenodo.4624363/Confocal_2_STED.zip\",\n",
    "    known_hash=\"1e912c15746d8d197ddc275cc68e37764a4118d07be607f3f89751070ba75d41\",\n",
    "    fname=\"source.zip\",\n",
    "    path=data_path / Path(\"download\")\n",
    ")"
   ]
  },
  {
   "cell_type": "code",
   "execution_count": 3,
   "metadata": {},
   "outputs": [],
   "source": [
    "with zipfile.ZipFile(source,\"r\") as zip_ref:\n",
    "    zip_ref.extractall(data_path / Path(\"download\"))"
   ]
  },
  {
   "cell_type": "code",
   "execution_count": 6,
   "metadata": {},
   "outputs": [],
   "source": [
    "# We will use two folders in this demo: \"Microtubule\" and \"Nuclear_Pore_complex\".\n",
    "# In each folder, there are two sub-folders, \"raw\" and \"gt\", while files in these two\n",
    "# sub-folders are paired by filenames. Our package can support this type of setup.\n",
    "# All we need is to rename the folders into \"IM\" and \"GT\". \n",
    "for ds in [\"Microtubule\", \"Nuclear_Pore_complex\"]:\n",
    "    src_dir = data_path / Path(\"download\") / Path(\"Confocal_2_STED\") / f\"{ds}\" / Path(\"Training\") / Path(\"raw\")\n",
    "    tar_dir = data_path / Path(\"train\") / f\"{ds}\" / Path(\"IM\")\n",
    "    move(src_dir, tar_dir)\n",
    "\n",
    "    src_dir = data_path / Path(\"download\") / Path(\"Confocal_2_STED\") / f\"{ds}\" / Path(\"Training\") / Path(\"gt\")\n",
    "    tar_dir = data_path / Path(\"train\") / f\"{ds}\" / Path(\"GT\")\n",
    "    move(src_dir, tar_dir)"
   ]
  },
  {
   "cell_type": "code",
   "execution_count": 4,
   "metadata": {},
   "outputs": [],
   "source": [
    "# there is a bug in the training data of \"Microtubule\". The \"gt\" folder contains more images than \"raw\". So, we have to remove them\n",
    "gt_path = data_path / Path(\"train\") / Path(\"Microtubule\") / Path(\"GT\")\n",
    "filenames = sorted(gt_path.glob(\"*.tif\"))\n",
    "for fn in filenames:\n",
    "    raw_fn = data_path / Path(\"train\") / Path(\"Microtubule\") / Path(\"IM\") / fn.name\n",
    "    if not raw_fn.is_file():\n",
    "        fn.unlink()"
   ]
  },
  {
   "cell_type": "code",
   "execution_count": 4,
   "metadata": {},
   "outputs": [],
   "source": [
    "for ds in [\"Microtubule\", \"Nuclear_Pore_complex\"]:\n",
    "    src_dir = data_path / Path(\"download\") / Path(\"Confocal_2_STED\") / f\"{ds}\" / Path(\"test\")\n",
    "    tar_dir = data_path / Path(\"test\") / f\"{ds}\"\n",
    "    move(src_dir, tar_dir)"
   ]
  },
  {
   "cell_type": "code",
   "execution_count": 7,
   "metadata": {},
   "outputs": [],
   "source": [
    "# you may remove the download folder now.\n",
    "from shutil import rmtree\n",
    "rmtree(data_path / Path(\"download\"))"
   ]
  }
 ],
 "metadata": {
  "kernelspec": {
   "display_name": "Python 3.9.15 ('jc_im2im_dev')",
   "language": "python",
   "name": "python3"
  },
  "language_info": {
   "codemirror_mode": {
    "name": "ipython",
    "version": 3
   },
   "file_extension": ".py",
   "mimetype": "text/x-python",
   "name": "python",
   "nbconvert_exporter": "python",
   "pygments_lexer": "ipython3",
   "version": "3.9.15"
  },
  "orig_nbformat": 4,
  "vscode": {
   "interpreter": {
    "hash": "50fa6b3a3d2c08b8f5587b2999a963caca3e95136a1c3abe22c8121754c6ac26"
   }
  }
 },
 "nbformat": 4,
 "nbformat_minor": 2
}
