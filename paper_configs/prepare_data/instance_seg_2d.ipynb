{
 "cells": [
  {
   "cell_type": "markdown",
   "metadata": {},
   "source": [
    "The dataset was downloaded from https://bbbc.broadinstitute.org/BBBC010"
   ]
  },
  {
   "cell_type": "code",
   "execution_count": null,
   "metadata": {},
   "outputs": [],
   "source": [
    "import pooch\n",
    "from skimage.io import imread\n",
    "from bioio import BioImage\n",
    "from bioio.writers import OmeTiffWriter\n",
    "import zipfile\n",
    "from pathlib import Path\n",
    "from random import random\n",
    "import numpy as np\n",
    "\n",
    "\n",
    "data_path = Path(\"../../data/instance2D\")\n",
    "data_path.mkdir(exist_ok=True, parents=True)\n",
    "\n",
    "download_path = data_path / Path(\"download\")\n",
    "download_path.mkdir(exist_ok=True)\n",
    "train_path = data_path / Path(\"train\")\n",
    "train_path.mkdir(exist_ok=True)\n",
    "test_path = data_path / Path(\"test\")\n",
    "test_path.mkdir(exist_ok=True)"
   ]
  },
  {
   "cell_type": "code",
   "execution_count": null,
   "metadata": {},
   "outputs": [],
   "source": [
    "source_im = pooch.retrieve(\n",
    "    url=\"https://data.broadinstitute.org/bbbc/BBBC010/BBBC010_v2_images.zip\",\n",
    "    fname=\"source_im.zip\",\n",
    "    path=data_path / Path(\"download\"),\n",
    "    known_hash=\"77a82c74d12c0707e861d9b324b47e6a74e316aefe25a3501f596c7a80a0b4f4\"\n",
    ")\n",
    "\n",
    "source_gt = pooch.retrieve(\n",
    "    url=\"https://data.broadinstitute.org/bbbc/BBBC010/BBBC010_v1_foreground_eachworm.zip\",\n",
    "    fname=\"source_gt.zip\",\n",
    "    path=data_path / Path(\"download\"),\n",
    "    known_hash=\"19b7ceef05d4a21bb3eec9988ee0b61dd0eeb940fb690125f14bb5919ae8ae44\"\n",
    ")"
   ]
  },
  {
   "cell_type": "code",
   "execution_count": null,
   "metadata": {},
   "outputs": [],
   "source": [
    "# unzip the data\n",
    "with zipfile.ZipFile(source_im,\"r\") as zip_ref:\n",
    "    zip_ref.extractall(data_path / Path(\"download\"))\n",
    "\n",
    "with zipfile.ZipFile(source_gt,\"r\") as zip_ref:\n",
    "    zip_ref.extractall(data_path / Path(\"download\"))"
   ]
  },
  {
   "cell_type": "code",
   "execution_count": null,
   "metadata": {},
   "outputs": [],
   "source": [
    "filenames = sorted(download_path.glob(\"*_w2_*.tif\"))\n",
    "gt_path = download_path / Path(\"BBBC010_v1_foreground_eachworm\")\n",
    "for fn in filenames:\n",
    "    fn_key = fn.name[33:36]\n",
    "\n",
    "    reader = BioImage(fn)\n",
    "    raw = reader.get_image_data(\"YX\", Z=0, C=0, T=0)\n",
    "\n",
    "    gt = np.zeros(raw.shape, dtype=np.uint8)\n",
    "    gt_filenames = sorted(Path(gt_path).glob(f\"{fn_key}_*.png\"))\n",
    "    for gt_idx, gt_fn in enumerate(gt_filenames):\n",
    "        gt_item = imread(gt_fn)\n",
    "        gt[gt_item > 0] = gt_idx + 1\n",
    "\n",
    "    if random() < 0.05:\n",
    "        out_path = test_path\n",
    "    else:\n",
    "        out_path = train_path\n",
    "\n",
    "    out_raw = out_path / f\"img_{fn_key}_IM.tiff\"\n",
    "    out_gt = out_path / f\"img_{fn_key}_GT.tiff\"\n",
    "\n",
    "    OmeTiffWriter.save(raw, out_raw, dim_order=\"YX\")\n",
    "    OmeTiffWriter.save(gt, out_gt, dim_order=\"YX\")\n"
   ]
  },
  {
   "cell_type": "code",
   "execution_count": null,
   "metadata": {},
   "outputs": [],
   "source": [
    "# you may remove the download folder now.\n",
    "from shutil import rmtree\n",
    "rmtree(download_path)"
   ]
  }
 ],
 "metadata": {
  "kernelspec": {
   "display_name": "Python 3.9.15 ('jc_im2im_dev')",
   "language": "python",
   "name": "python3"
  },
  "language_info": {
   "codemirror_mode": {
    "name": "ipython",
    "version": 3
   },
   "file_extension": ".py",
   "mimetype": "text/x-python",
   "name": "python",
   "nbconvert_exporter": "python",
   "pygments_lexer": "ipython3",
   "version": "3.9.18"
  },
  "orig_nbformat": 4,
  "vscode": {
   "interpreter": {
    "hash": "50fa6b3a3d2c08b8f5587b2999a963caca3e95136a1c3abe22c8121754c6ac26"
   }
  }
 },
 "nbformat": 4,
 "nbformat_minor": 2
}
