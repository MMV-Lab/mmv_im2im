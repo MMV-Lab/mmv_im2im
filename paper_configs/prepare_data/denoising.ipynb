{
 "cells": [
  {
   "attachments": {},
   "cell_type": "markdown",
   "metadata": {},
   "source": [
    "The data were downloaded from the data asscociated with paper:\n",
    "\n",
    "Weigert, M., Schmidt, U., Boothe, T. et al. Content-aware image restoration: pushing the limits of fluorescence microscopy. Nat Methods 15, 1090–1097 (2018). https://doi.org/10.1038/s41592-018-0216-7\n",
    "\n",
    "Data can be downloaded from here: https://publications.mpi-cbg.de/publications-sites/7207/\n",
    "\n",
    "We will use two datasets \"Denoising_Planaria.tar.gz\" and \"Denoising_Tribolium.tar.gz\""
   ]
  },
  {
   "cell_type": "code",
   "execution_count": null,
   "metadata": {},
   "outputs": [],
   "source": [
    "import pooch\n",
    "from aicsimageio import AICSImage\n",
    "from aicsimageio.writers import OmeTiffWriter\n",
    "import matplotlib.pyplot as plt\n",
    "import tarfile\n",
    "from pathlib import Path\n",
    "from random import random\n",
    "import numpy as np\n",
    "from shutil import move\n",
    "\n",
    "\n",
    "data_path = Path(\"../../data/denoising\")\n",
    "data_path.mkdir(exist_ok=True, parents=True)\n",
    "p = data_path / Path(\"download\")\n",
    "p.mkdir(exist_ok=True, parents=True)\n",
    "p = data_path / Path(\"train\")\n",
    "p.mkdir(exist_ok=True)\n",
    "p = data_path / Path(\"test\")\n",
    "p.mkdir(exist_ok=True)"
   ]
  },
  {
   "cell_type": "code",
   "execution_count": null,
   "metadata": {},
   "outputs": [],
   "source": [
    "source_part1 = pooch.retrieve(\n",
    "    url=\"https://publications.mpi-cbg.de/publications-sites/7207/Denoising_Planaria.tar.gz\",\n",
    "    known_hash=\"4959cd29b1bd8c5149641b52e7e99a57e03ce1bdd9d99e93d1fee17546f2d17d\",\n",
    "    fname=\"Planaria.tar.gz\",\n",
    "    path=data_path / Path(\"download\")\n",
    ")"
   ]
  },
  {
   "cell_type": "code",
   "execution_count": null,
   "metadata": {},
   "outputs": [],
   "source": [
    "tar = tarfile.open(source_part1, \"r:gz\")\n",
    "tar.extractall(path=data_path / Path(\"download\"))\n",
    "tar.close()"
   ]
  },
  {
   "cell_type": "code",
   "execution_count": null,
   "metadata": {},
   "outputs": [],
   "source": [
    "Planaria_path = data_path / Path(\"download\") / Path(\"Denoising_Planaria\") / Path(\"train_data\")\n",
    "data = np.load(Planaria_path / Path(\"data_label.npz\"))\n",
    "\n",
    "raw = data['X']\n",
    "gt = data['Y']\n",
    "\n",
    "out_path = data_path / Path(\"train\") / Path(\"Planaria\")\n",
    "out_path.mkdir(exist_ok=True)\n",
    "\n",
    "for img_idx in range(raw.shape[0]):\n",
    "    raw_fn = out_path / f\"img_{img_idx:05d}_IM.tiff\"\n",
    "    gt_fn = out_path / f\"img_{img_idx:05d}_GT.tiff\"\n",
    "\n",
    "    OmeTiffWriter.save(raw[img_idx, 0, :, :, :], raw_fn, dim_order=\"ZYX\")\n",
    "    OmeTiffWriter.save(gt[img_idx, 0, :, :, :], gt_fn, dim_order=\"ZYX\")"
   ]
  },
  {
   "cell_type": "code",
   "execution_count": null,
   "metadata": {},
   "outputs": [],
   "source": [
    "# move the test data to the desired folder\n",
    "src_path = Planaria_path = data_path / Path(\"download\") / Path(\"Denoising_Planaria\") / Path(\"test_data\")\n",
    "tar_path = data_path / Path(\"test\") / Path(\"Planaria\")\n",
    "tar_path.mkdir(exist_ok=True)\n",
    "move(src_path, tar_path)"
   ]
  },
  {
   "cell_type": "code",
   "execution_count": null,
   "metadata": {},
   "outputs": [],
   "source": [
    "source_part2 = pooch.retrieve(\n",
    "    url=\"https://publications.mpi-cbg.de/publications-sites/7207/Denoising_Tribolium.tar.gz\",\n",
    "    known_hash=None,\n",
    "    fname=\"Tribolium.tar.gz\",\n",
    "    path=data_path / Path(\"download\")\n",
    ")"
   ]
  },
  {
   "cell_type": "code",
   "execution_count": null,
   "metadata": {},
   "outputs": [],
   "source": [
    "tar = tarfile.open(source_part2, \"r:gz\")\n",
    "tar.extractall(path=data_path / Path(\"download\"))\n",
    "tar.close()"
   ]
  },
  {
   "cell_type": "code",
   "execution_count": null,
   "metadata": {},
   "outputs": [],
   "source": [
    "Tribolium_path = data_path / Path(\"download\") / Path(\"Denoising_Tribolium\") / Path(\"train_data\")\n",
    "data = np.load(Tribolium_path / Path(\"data_label.npz\"))\n",
    "\n",
    "raw = data['X']\n",
    "gt = data['Y']\n",
    "\n",
    "out_path = data_path / Path(\"train\") / Path(\"Tribolium\")\n",
    "out_path.mkdir(exist_ok=True)\n",
    "\n",
    "for img_idx in range(raw.shape[0]):\n",
    "    raw_fn = out_path / f\"img_{img_idx:05d}_IM.tiff\"\n",
    "    gt_fn = out_path / f\"img_{img_idx:05d}_GT.tiff\"\n",
    "\n",
    "    OmeTiffWriter.save(raw[img_idx, 0, :, :, :], raw_fn, dim_order=\"ZYX\")\n",
    "    OmeTiffWriter.save(gt[img_idx, 0, :, :, :], gt_fn, dim_order=\"ZYX\")"
   ]
  },
  {
   "cell_type": "code",
   "execution_count": null,
   "metadata": {},
   "outputs": [],
   "source": [
    "# move the test data to the desired folder\n",
    "src_path = Tribolium_path = data_path / Path(\"download\") / Path(\"Denoising_Tribolium\") / Path(\"test_data\")\n",
    "tar_path = data_path / Path(\"test\") / Path(\"Tribolium\")\n",
    "tar_path.mkdir(exist_ok=True)\n",
    "move(src_path, tar_path)"
   ]
  },
  {
   "cell_type": "code",
   "execution_count": null,
   "metadata": {},
   "outputs": [],
   "source": [
    "# you may remove the download folder now.\n",
    "from shutil import rmtree\n",
    "rmtree(data_path / Path(\"download\"), ignore_errors=True)"
   ]
  }
 ],
 "metadata": {
  "kernelspec": {
   "display_name": "Python 3.9.15 ('jc_im2im_dev')",
   "language": "python",
   "name": "python3"
  },
  "language_info": {
   "codemirror_mode": {
    "name": "ipython",
    "version": 3
   },
   "file_extension": ".py",
   "mimetype": "text/x-python",
   "name": "python",
   "nbconvert_exporter": "python",
   "pygments_lexer": "ipython3",
   "version": "3.9.18"
  },
  "orig_nbformat": 4,
  "vscode": {
   "interpreter": {
    "hash": "50fa6b3a3d2c08b8f5587b2999a963caca3e95136a1c3abe22c8121754c6ac26"
   }
  }
 },
 "nbformat": 4,
 "nbformat_minor": 2
}
