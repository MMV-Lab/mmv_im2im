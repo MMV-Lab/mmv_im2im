{
 "cells": [
  {
   "attachments": {},
   "cell_type": "markdown",
   "metadata": {},
   "source": [
    "This dataset was downloaded from https://zenodo.org/record/4751737#.Y9gbv4HMLVZ, which was from the follwoing paper: \n",
    "\n",
    "Ghahremani, P., Li, Y., Kaufman, A. et al. Deep learning-inferred multiplex immunofluorescence for immunohistochemical image quantification. Nat Mach Intell 4, 401–412 (2022). https://doi.org/10.1038/s42256-022-00471-x\n",
    "\n",
    "The dataset we used is \"BC-DeepLIIF_Training_Set.zip\" and \"BC-DeepLIIF_Validation_Set.zip\""
   ]
  },
  {
   "cell_type": "code",
   "execution_count": null,
   "metadata": {},
   "outputs": [],
   "source": [
    "import pooch\n",
    "from skimage.io import imread, imsave\n",
    "from skimage.color import rgb2gray\n",
    "import zipfile\n",
    "from pathlib import Path\n",
    "from random import random\n",
    "import numpy as np\n",
    "\n",
    "\n",
    "data_path = Path(\"../../data/multiplexTransfer\")\n",
    "download_path = data_path / Path(\"download\")\n",
    "download_path.mkdir(exist_ok=True)\n",
    "train_path = data_path / Path(\"train_v2\")\n",
    "train_path.mkdir(exist_ok=True)\n",
    "test_path = data_path / Path(\"test\")\n",
    "test_path.mkdir(exist_ok=True)"
   ]
  },
  {
   "cell_type": "code",
   "execution_count": null,
   "metadata": {},
   "outputs": [],
   "source": [
    "source_part1 = pooch.retrieve(\n",
    "    url=\"https://zenodo.org/record/4751737/files/BC-DeepLIIF_Training_Set.zip?download=1\",\n",
    "    known_hash=\"md5:61d02c92fce42b56d0ec01a20498879b\",\n",
    "    fname=\"source_part1.zip\",\n",
    "    path=download_path\n",
    ")"
   ]
  },
  {
   "cell_type": "code",
   "execution_count": null,
   "metadata": {},
   "outputs": [],
   "source": [
    "with zipfile.ZipFile(source_part1,\"r\") as zip_ref:\n",
    "    zip_ref.extractall(download_path)"
   ]
  },
  {
   "cell_type": "code",
   "execution_count": null,
   "metadata": {},
   "outputs": [],
   "source": [
    "source_part2 = pooch.retrieve(\n",
    "    url=\"https://zenodo.org/record/4751737/files/BC-DeepLIIF_Validation_Set.zip?download=1\",\n",
    "    known_hash=\"md5:f172eb8ae915c1ba772ac1e3c2b6db72\",\n",
    "    fname=\"source_part2.zip\",\n",
    "    path=download_path\n",
    ")"
   ]
  },
  {
   "cell_type": "code",
   "execution_count": null,
   "metadata": {},
   "outputs": [],
   "source": [
    "with zipfile.ZipFile(source_part2,\"r\") as zip_ref:\n",
    "    zip_ref.extractall(download_path)"
   ]
  },
  {
   "cell_type": "code",
   "execution_count": null,
   "metadata": {},
   "outputs": [],
   "source": [
    "for ii in range(3):\n",
    "    p = train_path / f\"trans{ii+1}\"\n",
    "    p.mkdir(exist_ok=True)\n",
    "\n",
    "    p = test_path / f\"trans{ii+1}\"\n",
    "    p.mkdir(exist_ok=True)"
   ]
  },
  {
   "cell_type": "code",
   "execution_count": null,
   "metadata": {},
   "outputs": [],
   "source": [
    "for set_name in [\"BC-DeepLIIF_Training_Set\", \"BC-DeepLIIF_Validation_Set\"]:\n",
    "    set_path = download_path / f\"{set_name}\"\n",
    "    filenames = sorted(set_path.glob(\"*.png\"))\n",
    "    for idx, fn in enumerate(filenames):\n",
    "        full_img = imread(fn)\n",
    "        # raw input\n",
    "        img = full_img[:, :512, :]\n",
    "\n",
    "        # target 1\n",
    "        gt1 = full_img[:, 512: 1024, :]\n",
    "        gt1_gray = rgb2gray(gt1, channel_axis=-1)\n",
    "\n",
    "        # target 2\n",
    "        gt2 = full_img[:, 1024: 1536, :]\n",
    "        gt2_gray = rgb2gray(gt2, channel_axis=-1)\n",
    "\n",
    "        # target 3\n",
    "        gt3 = full_img[:, 1536: 2048, :]\n",
    "        gt3_gray = rgb2gray(gt3, channel_axis=-1)\n",
    "\n",
    "        if random() < 0.1:\n",
    "            target_path = test_path\n",
    "        else:\n",
    "            target_path = train_path\n",
    "\n",
    "        out_fn = target_path / Path(\"trans1\") / f\"{idx}_IM.tiff\"\n",
    "        imsave(out_fn, img)\n",
    "\n",
    "        out_fn = target_path / Path(\"trans2\") / f\"{idx}_IM.tiff\"\n",
    "        imsave(out_fn, img)\n",
    "\n",
    "        out_fn = target_path / Path(\"trans3\") / f\"{idx}_IM.tiff\"\n",
    "        imsave(out_fn, img)\n",
    "\n",
    "        out_gt1 = target_path / Path(\"trans1\") / f\"{idx}_GT.tiff\"\n",
    "        imsave(out_gt1, gt1)\n",
    "\n",
    "        out_gt2 = target_path / Path(\"trans2\") / f\"{idx}_GT.tiff\"\n",
    "        imsave(out_gt2, gt2)\n",
    "\n",
    "        out_gt3 = target_path / Path(\"trans3\") / f\"{idx}_GT.tiff\"\n",
    "        imsave(out_gt3, gt3)\n",
    "\n"
   ]
  },
  {
   "cell_type": "code",
   "execution_count": null,
   "metadata": {},
   "outputs": [],
   "source": [
    "# you may remove the download folder now.\n",
    "from shutil import rmtree\n",
    "rmtree(download_path)"
   ]
  }
 ],
 "metadata": {
  "kernelspec": {
   "display_name": "jc_im2im_dev",
   "language": "python",
   "name": "python3"
  },
  "language_info": {
   "codemirror_mode": {
    "name": "ipython",
    "version": 3
   },
   "file_extension": ".py",
   "mimetype": "text/x-python",
   "name": "python",
   "nbconvert_exporter": "python",
   "pygments_lexer": "ipython3",
   "version": "3.9.15 (main, Nov 24 2022, 14:31:59) \n[GCC 11.2.0]"
  },
  "orig_nbformat": 4,
  "vscode": {
   "interpreter": {
    "hash": "50fa6b3a3d2c08b8f5587b2999a963caca3e95136a1c3abe22c8121754c6ac26"
   }
  }
 },
 "nbformat": 4,
 "nbformat_minor": 2
}
